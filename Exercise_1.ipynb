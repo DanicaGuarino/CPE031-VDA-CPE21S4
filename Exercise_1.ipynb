{
  "nbformat": 4,
  "nbformat_minor": 0,
  "metadata": {
    "colab": {
      "provenance": [],
      "authorship_tag": "ABX9TyPAnKOmzJexsSHm+ZRBnQyp",
      "include_colab_link": true
    },
    "kernelspec": {
      "name": "python3",
      "display_name": "Python 3"
    },
    "language_info": {
      "name": "python"
    }
  },
  "cells": [
    {
      "cell_type": "markdown",
      "metadata": {
        "id": "view-in-github",
        "colab_type": "text"
      },
      "source": [
        "<a href=\"https://colab.research.google.com/github/dncagua/CPE031-VDA-CPE21S4/blob/main/Exercise_1.ipynb\" target=\"_parent\"><img src=\"https://colab.research.google.com/assets/colab-badge.svg\" alt=\"Open In Colab\"/></a>"
      ]
    },
    {
      "cell_type": "code",
      "execution_count": null,
      "metadata": {
        "id": "MmbfHRLP1xU8"
      },
      "outputs": [],
      "source": []
    },
    {
      "cell_type": "markdown",
      "source": [
        " **Exercise 1**\n",
        "\n",
        " 1. Variables and Data Types\n",
        " 2. Arithmetic\n",
        " 3. Control Statements amd Data Structures\n",
        " 4. Loops\n",
        " 5. Tuples\n",
        " 6. Lists\n",
        " 7. Dictionaries\n",
        " 8. Generators and Comprehension\n",
        " 9. Functions"
      ],
      "metadata": {
        "id": "mn0lfFJ819o3"
      }
    },
    {
      "cell_type": "markdown",
      "source": [
        "**Numbers**\n",
        "\n",
        "varium = 123\n",
        "pi =  3.14159\n",
        "\n",
        "\n",
        "\n",
        "**Strings**\n",
        "\n",
        "varString = \"Hello World!\"\n",
        "varText = \"This is a String!\"\n",
        "\n",
        "\n",
        "\n",
        "**Lists**\n",
        "\n",
        "varList = [\"abc, 123\"]\n",
        "\n",
        "\n",
        "**Tuples**\n",
        "\n",
        "varTuple = 'abc', 123, \"HELLO\"\n",
        "\n",
        "\n",
        "**Dictionaries**\n",
        "\n",
        "var = 3\n",
        "varDict = {'first':1,'2':'2nd', 3:var}\n",
        "\n",
        "varDict = {}\n",
        "varDict['first'] = 1\n",
        "varDict['2']= '2nd'\n",
        "varDict[3] = var\n"
      ],
      "metadata": {
        "id": "Mqor9Iry7M_p"
      }
    },
    {
      "cell_type": "markdown",
      "source": [
        "# **Arithmetic**"
      ],
      "metadata": {
        "id": "kFkc7iMc4qRn"
      }
    },
    {
      "cell_type": "markdown",
      "source": [
        " **Addition**\n",
        "\n",
        "` a = 5 + 3`\n",
        "\n",
        "> 8\n",
        "\n",
        "**Subtraction**\n",
        "\n",
        "`a = 5 - 3`\n",
        "\n",
        "> 2\n",
        "\n",
        "**Multiplication**\n",
        "\n",
        "`a = 5 * 3`\n",
        "\n",
        "> 15\n",
        "\n",
        "**Exponent**\n",
        "\n",
        "`a = 5 ** 3`\n",
        "\n",
        "> 125\n",
        "\n",
        "**Division**\n",
        "\n",
        "`a = 5% 3`\n",
        "\n",
        "> 2\n",
        "\n",
        "`a = 5 // 3`\n",
        "\n",
        "> 1\n",
        "\n",
        "**Increment / Decrement**\n",
        "\n",
        "```\n",
        "# a = 5\n",
        "a += 1\n",
        "```\n",
        "\n",
        "> 6\n",
        "\n",
        "**Decrement**\n",
        "\n",
        "```\n",
        "# a = 5\n",
        "a -= 1\n",
        "```\n",
        "\n",
        "> 4\n",
        "\n",
        "**String Concatenation**\n",
        "\n",
        "`a = 'Hello' + 'World!'`\n",
        "\n",
        "> Hello World!\n",
        "\n",
        "**Complex Expressions**\n",
        "\n",
        "`a = 3 + 5 = 6 * 2 / 4`\n",
        "\n",
        "> 5.0"
      ],
      "metadata": {
        "id": "rU-UBvZh5Q3w"
      }
    },
    {
      "cell_type": "markdown",
      "source": [
        "**Boolean Conditions**\n",
        "\n",
        "\n"
      ],
      "metadata": {
        "id": "ckjUXdiR7oT3"
      }
    },
    {
      "cell_type": "code",
      "source": [
        "x = True\n",
        "\n",
        "if x:\n",
        "  print (\"var x is True\")\n",
        "else:\n",
        "  print (\"var x is False\")"
      ],
      "metadata": {
        "colab": {
          "base_uri": "https://localhost:8080/"
        },
        "id": "EQN2wh8D7zgA",
        "outputId": "a98dd70d-54f6-4827-a4d2-c9b4a5c3806f"
      },
      "execution_count": 4,
      "outputs": [
        {
          "output_type": "stream",
          "name": "stdout",
          "text": [
            "var x is True\n"
          ]
        }
      ]
    },
    {
      "cell_type": "markdown",
      "source": [
        "**String Conditions**"
      ],
      "metadata": {
        "id": "y1xJNoAl8K1P"
      }
    },
    {
      "cell_type": "code",
      "source": [
        "x = \"Hello World!\"\n",
        "\n",
        "if x == 'Hello World!':\n",
        "  print (\"var x is Hello World!\")\n",
        "\n",
        "else:\n",
        "  print (\"var x is not Hello World!\")"
      ],
      "metadata": {
        "colab": {
          "base_uri": "https://localhost:8080/"
        },
        "id": "-7FFoFcj8KXg",
        "outputId": "38d7375f-9d65-450b-9d36-94af77fd60aa"
      },
      "execution_count": 5,
      "outputs": [
        {
          "output_type": "stream",
          "name": "stdout",
          "text": [
            "var x is Hello World!\n"
          ]
        }
      ]
    },
    {
      "cell_type": "markdown",
      "source": [
        "**Numerical Conditions**"
      ],
      "metadata": {
        "id": "apgxUrDW8tXA"
      }
    },
    {
      "cell_type": "code",
      "source": [
        "x = 10\n",
        "\n",
        "if x == '10':\n",
        "  print (\"var x is a string\")\n",
        "\n",
        "elif x == 10:\n",
        "  print(\"var x is an integer\")\n",
        "\n",
        "else:\n",
        "  print(\"var x is none of the above\")"
      ],
      "metadata": {
        "colab": {
          "base_uri": "https://localhost:8080/"
        },
        "id": "KDD_TPGQ8xRI",
        "outputId": "6f8eea7a-6768-4960-ba9b-9e9e772f329e"
      },
      "execution_count": 6,
      "outputs": [
        {
          "output_type": "stream",
          "name": "stdout",
          "text": [
            "var x is an integer\n"
          ]
        }
      ]
    },
    {
      "cell_type": "markdown",
      "source": [
        "# **Loops**"
      ],
      "metadata": {
        "id": "v6JYOW2o9lOP"
      }
    },
    {
      "cell_type": "markdown",
      "source": [
        "For Loops\n",
        "\n",
        "\n",
        "\n",
        "```\n",
        "for var in range (0, 5, 2):\n",
        "   print (var)\n",
        "```\n",
        "> 0\n",
        "\n",
        "> 2\n",
        "\n",
        "> 4\n",
        "\n",
        "\n",
        "While Loops\n",
        "```\n",
        " var = 0\n",
        "while var < 5:\n",
        "    print(var)\n",
        "    var += 2\n",
        "```\n",
        "> 0\n",
        "\n",
        "> 2\n",
        "\n",
        "> 4\n",
        "\n",
        "Nested Loops\n",
        "\n",
        "\n",
        "\n",
        "```\n",
        "x = 0\n",
        "while x < 5:\n",
        "  for y in range (0, x):\n",
        "      print(y, end= ''}\n",
        "      x += 1\n",
        "      print ()\n",
        "```\n",
        "\n",
        "> 0\n",
        "\n",
        "> 01\n",
        "\n",
        "> 012\n",
        "\n",
        "> 013\n",
        "\n",
        "\n"
      ],
      "metadata": {
        "id": "rsEaK5Eh93g4"
      }
    },
    {
      "cell_type": "markdown",
      "source": [
        "# **List**\n",
        "\n",
        "\n",
        "\n",
        "```\n",
        "pi = 3.14159\n",
        "varlist = [1, 2, 'A', 'B', 'Hello!' , pi]\n",
        "print (varList[0])\n",
        "\n",
        "```\n",
        "> 1\n",
        "\n",
        "\n",
        "\n",
        "```\n",
        "print (varList[4])\n",
        "```\n",
        "\n",
        "> Hello!\n",
        "\n",
        "\n",
        "\n",
        "```\n",
        "varList.append('World!')\n",
        "print(varList[6])\n",
        "```\n",
        "\n",
        "> World!\n",
        "\n",
        "\n",
        "\n",
        "```\n",
        "len(varList)\n",
        "```\n",
        "\n",
        "> 7\n",
        "\n",
        "\n",
        "\n",
        "```\n",
        "print(varList[5])\n",
        "```\n",
        "\n",
        "> 3.14159\n",
        "\n",
        "\n",
        "\n",
        "```\n",
        " varList.remove(pi)\n",
        "print(varList[5])\n",
        "\n",
        "```\n",
        "\n",
        "\n",
        "> World!"
      ],
      "metadata": {
        "id": "cmiB25RY_zGR"
      }
    },
    {
      "cell_type": "markdown",
      "source": [
        "# **Dictionaries**\n",
        "\n",
        "\n",
        "\n",
        "```\n",
        " var = \"Hello World!\"\n",
        "varDict = {'first' : 123, 2 : 'abc' ,\n",
        "          '3' : var, 4 : ['lista', 'listb']}\n",
        "\n",
        "print(varDict['first'])\n",
        "```\n",
        "\n",
        "> 123\n",
        "\n",
        "\n",
        "\n",
        "```\n",
        "print(varDict[2])\n",
        "```\n",
        "\n",
        "> abc\n",
        "\n",
        "\n",
        "\n",
        "\n",
        "```\n",
        " print(varDict['3'])\n",
        "```\n",
        "\n",
        "> Hello World!\n",
        "\n",
        "\n",
        "\n",
        "\n",
        "```\n",
        " print(varDict[4])\n",
        "```\n",
        "\n",
        "\n",
        "> ['lista', 'listb']\n",
        "\n",
        "\n",
        "\n",
        "\n",
        "```\n",
        " print(varDict[4][1])\n",
        "```\n",
        "\n",
        ">listb\n",
        "\n",
        "\n",
        "\n",
        "```\n",
        "len(varDict)\n",
        "```\n",
        "\n",
        "> 4"
      ],
      "metadata": {
        "id": "YGyc4A80BafJ"
      }
    },
    {
      "cell_type": "markdown",
      "source": [
        "# **List Generators and Comprehension**\n",
        "\n",
        "Generators can be used to build list in the memory as objects\n",
        "\n",
        "\n",
        "\n",
        "\n",
        "```\n",
        " def gen_num_up_to(n):\n",
        "      num = 0\n",
        "      while num < n:\n",
        "      yield num\n",
        "      num += 1\n",
        "```\n",
        "\n",
        "\n",
        "```\n",
        " gen_num_up_to(5)\n",
        "```\n",
        "\n",
        " > <generator object gen_num_up_to at 0x0000\n",
        "\n",
        " *Note: This creates an object\n",
        "\n",
        "\n",
        "\n",
        "\n",
        "```\n",
        "varlist gen_num_up_to(5)\n",
        "print([var for van in varlist])\n",
        "```\n",
        "\n",
        "\n",
        "> [0, 1, 2, 3, 4]\n",
        "\n",
        "\n",
        "\n",
        "\n",
        "\n",
        "```\n",
        " def gen_num_up_to(n):\n",
        "     num = 0\n",
        "     while num < n:\n",
        "        yield num\n",
        "        num += 2\n",
        "\n",
        "varlist = gen_num_up_to(5)\n",
        "print([var for van in varlist])\n",
        "```\n",
        "\n",
        "\n",
        "> [0, 2, 4]\n",
        "\n",
        "\n",
        "\n",
        "\n",
        "```\n",
        "# varList = range(0, 5, 2)\n",
        "print ([var for var in varlist])\n",
        "```\n",
        "\n",
        "\n",
        "> [0, 2, 4]"
      ],
      "metadata": {
        "id": "ja4BW9Y4EPNB"
      }
    },
    {
      "cell_type": "markdown",
      "source": [
        "# **Slicing**\n",
        "\n",
        "\n"
      ],
      "metadata": {
        "id": "rwcH1tdnG5np"
      }
    },
    {
      "cell_type": "code",
      "source": [
        "varList = [1, 2, 3, 4, 5, 6, 7, 8, 9, 10]\n",
        "print(varList[:5])"
      ],
      "metadata": {
        "colab": {
          "base_uri": "https://localhost:8080/"
        },
        "id": "iEQVSf5AHDgT",
        "outputId": "22ee6972-e543-458a-959f-bc71a4515d97"
      },
      "execution_count": 7,
      "outputs": [
        {
          "output_type": "stream",
          "name": "stdout",
          "text": [
            "[1, 2, 3, 4, 5]\n"
          ]
        }
      ]
    },
    {
      "cell_type": "code",
      "source": [
        "print(varList[5:])"
      ],
      "metadata": {
        "colab": {
          "base_uri": "https://localhost:8080/"
        },
        "id": "aLLXWPjTHRKq",
        "outputId": "c767a09a-912f-4c80-9f5b-d828cc0b4dca"
      },
      "execution_count": 8,
      "outputs": [
        {
          "output_type": "stream",
          "name": "stdout",
          "text": [
            "[6, 7, 8, 9, 10]\n"
          ]
        }
      ]
    },
    {
      "cell_type": "code",
      "source": [
        "print(varList[:-2])"
      ],
      "metadata": {
        "colab": {
          "base_uri": "https://localhost:8080/"
        },
        "id": "_QeBF1KmHXKB",
        "outputId": "0314a3ec-0ec8-447d-fb1d-517f857a3837"
      },
      "execution_count": 9,
      "outputs": [
        {
          "output_type": "stream",
          "name": "stdout",
          "text": [
            "[1, 2, 3, 4, 5, 6, 7, 8]\n"
          ]
        }
      ]
    },
    {
      "cell_type": "code",
      "source": [
        "print(varList[-2:])"
      ],
      "metadata": {
        "colab": {
          "base_uri": "https://localhost:8080/"
        },
        "id": "rP7PR-45Hd_S",
        "outputId": "018a07cf-9736-42e0-fb6c-633fd8d95cc8"
      },
      "execution_count": 10,
      "outputs": [
        {
          "output_type": "stream",
          "name": "stdout",
          "text": [
            "[9, 10]\n"
          ]
        }
      ]
    },
    {
      "cell_type": "code",
      "source": [
        "print(varList[2:-2])"
      ],
      "metadata": {
        "colab": {
          "base_uri": "https://localhost:8080/"
        },
        "id": "kAZ0hpj0Hn6x",
        "outputId": "1e1b9ae2-d2e1-4653-b2ed-31aeee7af7af"
      },
      "execution_count": 11,
      "outputs": [
        {
          "output_type": "stream",
          "name": "stdout",
          "text": [
            "[3, 4, 5, 6, 7, 8]\n"
          ]
        }
      ]
    },
    {
      "cell_type": "code",
      "source": [
        "print(varList[2:8:2])"
      ],
      "metadata": {
        "colab": {
          "base_uri": "https://localhost:8080/"
        },
        "id": "es6LvLbQHtqq",
        "outputId": "58a070de-2265-4e41-bb3d-d2ce05161acd"
      },
      "execution_count": 12,
      "outputs": [
        {
          "output_type": "stream",
          "name": "stdout",
          "text": [
            "[3, 5, 7]\n"
          ]
        }
      ]
    },
    {
      "cell_type": "markdown",
      "source": [
        "# **Functions**\n",
        "\n",
        "Python functions use the following notation:\n",
        "\n",
        "```\n",
        "def function name:\n",
        "\n",
        "          commands\n",
        "```\n",
        "\n",
        "\n"
      ],
      "metadata": {
        "id": "8g4vJoZsIJQz"
      }
    },
    {
      "cell_type": "code",
      "source": [
        "def remainder(n, m):\n",
        "    while True:\n",
        "      if n - m <0:\n",
        "           return n\n",
        "    else:\n",
        "      n = n - m\n",
        "remainder(10, 4)"
      ],
      "metadata": {
        "id": "LMSgKffkIsnS"
      },
      "execution_count": null,
      "outputs": []
    }
  ]
}
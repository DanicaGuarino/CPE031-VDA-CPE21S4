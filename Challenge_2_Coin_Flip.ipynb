{
  "nbformat": 4,
  "nbformat_minor": 0,
  "metadata": {
    "colab": {
      "provenance": [],
      "authorship_tag": "ABX9TyNBbKrzThZDcHieJ0LcP2Oe",
      "include_colab_link": true
    },
    "kernelspec": {
      "name": "python3",
      "display_name": "Python 3"
    },
    "language_info": {
      "name": "python"
    }
  },
  "cells": [
    {
      "cell_type": "markdown",
      "metadata": {
        "id": "view-in-github",
        "colab_type": "text"
      },
      "source": [
        "<a href=\"https://colab.research.google.com/github/DanicaGuarino/CPE031-VDA-CPE21S4/blob/main/Challenge_2_Coin_Flip.ipynb\" target=\"_parent\"><img src=\"https://colab.research.google.com/assets/colab-badge.svg\" alt=\"Open In Colab\"/></a>"
      ]
    },
    {
      "cell_type": "markdown",
      "source": [
        "\n",
        "#**Challenge 2: Coin Flip**\n",
        "\n",
        "\n",
        "Create a function ***coin_flip()*** that stimulates coin flips repeated*** n ***times, with ***0*** representing tails and 1 representing heads. Make the function a generator with the parameter ***n*** as the number of coin flips.\n",
        "\n",
        "Use the ***numpy*** library as ***np*** and the function of ***np.random.radint()*** in order to stimulate a coin flip. After defining this function, return the result as a ***List*** using List Comprehension discussed previously."
      ],
      "metadata": {
        "id": "x2VN7J-vb5RR"
      }
    },
    {
      "cell_type": "code",
      "source": [
        "import numpy as np\n",
        "\n",
        "def coin_flip(n):\n",
        "    for _ in range(n):\n",
        "        yield np.random.randint(0, 2)\n",
        "\n",
        "\n",
        "result = [flip for flip in coin_flip(5)]\n",
        "print(result)"
      ],
      "metadata": {
        "colab": {
          "base_uri": "https://localhost:8080/"
        },
        "id": "ife283nubkYB",
        "outputId": "c85bf0a7-ce64-45aa-b67e-98403391aa31"
      },
      "execution_count": null,
      "outputs": [
        {
          "output_type": "stream",
          "name": "stdout",
          "text": [
            "[1, 0, 1, 1, 1]\n"
          ]
        }
      ]
    }
  ]
}